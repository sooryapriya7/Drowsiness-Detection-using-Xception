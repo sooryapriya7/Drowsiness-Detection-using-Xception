{
  "cells": [
    {
      "cell_type": "code",
      "execution_count": null,
      "id": "50b3f08b-265a-461c-8bac-649a2db41e9b",
      "metadata": {
        "id": "50b3f08b-265a-461c-8bac-649a2db41e9b",
        "outputId": "b6e842b9-7bf6-4736-dbe7-cbdbaf028c91"
      },
      "outputs": [
        {
          "name": "stdout",
          "output_type": "stream",
          "text": [
            "WARNING:tensorflow:From C:\\Users\\soory\\anaconda3\\Lib\\site-packages\\keras\\src\\losses.py:2976: The name tf.losses.sparse_softmax_cross_entropy is deprecated. Please use tf.compat.v1.losses.sparse_softmax_cross_entropy instead.\n",
            "\n"
          ]
        }
      ],
      "source": [
        "import os\n",
        "import numpy as np\n",
        "from sklearn.metrics import classification_report, confusion_matrix\n",
        "import matplotlib.pyplot as plt\n",
        "from tqdm import tqdm\n",
        "import cv2\n",
        "from sklearn.model_selection import train_test_split\n",
        "from tensorflow.keras.applications import Xception\n",
        "from tensorflow.keras.layers import Dense, Flatten\n",
        "from tensorflow.keras.models import Model\n",
        "from tensorflow.keras.optimizers import Adam, SGD\n",
        "from keras.callbacks import ModelCheckpoint, CSVLogger, EarlyStopping\n",
        "import seaborn as sns\n",
        "import time\n",
        "from sklearn import metrics\n",
        "import random"
      ]
    },
    {
      "cell_type": "code",
      "execution_count": null,
      "id": "99accf8b-dfc4-492e-a16a-96f0d13e61fa",
      "metadata": {
        "id": "99accf8b-dfc4-492e-a16a-96f0d13e61fa"
      },
      "outputs": [],
      "source": [
        "import os\n",
        "\n",
        "# Define folder path\n",
        "folder_path = \"./run/inception1\"  # Adjust this path as needed\n",
        "os.makedirs(folder_path, exist_ok=True)\n",
        "\n",
        "# Define dataset directory\n",
        "dataset_dir = \"data/\"  # Adjust this path as needed\n",
        "\n",
        "# Now you can use folder_path and dataset_dir in the rest of your code\n"
      ]
    },
    {
      "cell_type": "code",
      "execution_count": null,
      "id": "af91ef9e-8549-4e63-a008-94dd50c5cd37",
      "metadata": {
        "id": "af91ef9e-8549-4e63-a008-94dd50c5cd37",
        "outputId": "88e2bf6e-0283-450e-cb45-7d1fb7d66e60"
      },
      "outputs": [
        {
          "name": "stderr",
          "output_type": "stream",
          "text": [
            "0it [00:00, ?it/s]\n",
            "0it [00:00, ?it/s]\n",
            "100%|█████████████████████████████████████████████████████████████████████████████| 3603/3603 [00:22<00:00, 163.50it/s]\n",
            "100%|█████████████████████████████████████████████████████████████████████████████| 3049/3049 [00:19<00:00, 155.52it/s]\n"
          ]
        }
      ],
      "source": [
        "class_names = []\n",
        "features = []\n",
        "labels = []\n",
        "image_size = (224, 224)\n",
        "\n",
        "for path, subdirs, files in os.walk(dataset_dir):\n",
        "    num_files = len(files)\n",
        "    num_to_select = int(num_files * 0.1)\n",
        "    selected_files = random.sample(files, num_to_select)\n",
        "\n",
        "    for name in tqdm(selected_files):\n",
        "        img_path = os.path.join(path, name)\n",
        "        if img_path.endswith(\"jpg\"):\n",
        "            image_read = cv2.imread(img_path)\n",
        "            image_resized = cv2.resize(image_read, image_size)\n",
        "            image_normalized = image_resized / 255.0\n",
        "\n",
        "            path_parts = path.split('/')\n",
        "            label = path_parts[-1]\n",
        "\n",
        "            if label not in class_names:\n",
        "                class_names.append(label)\n",
        "\n",
        "            features.append(image_normalized)\n",
        "            index = class_names.index(label)\n",
        "            labels.append(index)\n",
        "\n",
        "features = np.asarray(features)\n",
        "labels = np.asarray(labels)"
      ]
    },
    {
      "cell_type": "code",
      "execution_count": null,
      "id": "09d93a0c-9aaf-4ddc-8459-ebb63e2e22f7",
      "metadata": {
        "id": "09d93a0c-9aaf-4ddc-8459-ebb63e2e22f7",
        "outputId": "dd45a43d-8057-433a-ffec-390ecc86df8c"
      },
      "outputs": [
        {
          "name": "stdout",
          "output_type": "stream",
          "text": [
            "Number of samples in features: 6652\n",
            "Number of samples in labels: 6652\n"
          ]
        }
      ],
      "source": [
        "# train test split\n",
        "print(\"Number of samples in features:\", len(features))\n",
        "print(\"Number of samples in labels:\", len(labels))\n",
        "\n",
        "X_train, X_test, y_train, y_test = train_test_split(features, labels, test_size=0.2, shuffle=True, random_state=42)\n",
        "X_valid, X_test, y_valid, y_valid = train_test_split(X_test, y_test, test_size=0.125, shuffle=True, random_state=42)"
      ]
    },
    {
      "cell_type": "code",
      "execution_count": null,
      "id": "b34152e5-6dba-4619-8528-ea66bd3355e2",
      "metadata": {
        "id": "b34152e5-6dba-4619-8528-ea66bd3355e2"
      },
      "outputs": [],
      "source": [
        "del features\n",
        "del labels"
      ]
    },
    {
      "cell_type": "code",
      "execution_count": null,
      "id": "2665e7cc-e2a7-461c-b71b-ae521aa30e0b",
      "metadata": {
        "id": "2665e7cc-e2a7-461c-b71b-ae521aa30e0b"
      },
      "outputs": [],
      "source": [
        "# Hyperparameter\n",
        "learning_rate = 0.001\n",
        "# epochs = 100\n",
        "batch_size = 16"
      ]
    },
    {
      "cell_type": "code",
      "execution_count": null,
      "id": "8f87e8ac-0fb3-4537-8aa6-e0e851b22ab6",
      "metadata": {
        "scrolled": true,
        "id": "8f87e8ac-0fb3-4537-8aa6-e0e851b22ab6",
        "outputId": "12983b61-2bd1-4554-e7cc-aa30d4aeda9d"
      },
      "outputs": [
        {
          "name": "stdout",
          "output_type": "stream",
          "text": [
            "Model: \"model_1\"\n",
            "__________________________________________________________________________________________________\n",
            " Layer (type)                Output Shape                 Param #   Connected to                  \n",
            "==================================================================================================\n",
            " input_2 (InputLayer)        [(None, 224, 224, 3)]        0         []                            \n",
            "                                                                                                  \n",
            " block1_conv1 (Conv2D)       (None, 111, 111, 32)         864       ['input_2[0][0]']             \n",
            "                                                                                                  \n",
            " block1_conv1_bn (BatchNorm  (None, 111, 111, 32)         128       ['block1_conv1[0][0]']        \n",
            " alization)                                                                                       \n",
            "                                                                                                  \n",
            " block1_conv1_act (Activati  (None, 111, 111, 32)         0         ['block1_conv1_bn[0][0]']     \n",
            " on)                                                                                              \n",
            "                                                                                                  \n",
            " block1_conv2 (Conv2D)       (None, 109, 109, 64)         18432     ['block1_conv1_act[0][0]']    \n",
            "                                                                                                  \n",
            " block1_conv2_bn (BatchNorm  (None, 109, 109, 64)         256       ['block1_conv2[0][0]']        \n",
            " alization)                                                                                       \n",
            "                                                                                                  \n",
            " block1_conv2_act (Activati  (None, 109, 109, 64)         0         ['block1_conv2_bn[0][0]']     \n",
            " on)                                                                                              \n",
            "                                                                                                  \n",
            " block2_sepconv1 (Separable  (None, 109, 109, 128)        8768      ['block1_conv2_act[0][0]']    \n",
            " Conv2D)                                                                                          \n",
            "                                                                                                  \n",
            " block2_sepconv1_bn (BatchN  (None, 109, 109, 128)        512       ['block2_sepconv1[0][0]']     \n",
            " ormalization)                                                                                    \n",
            "                                                                                                  \n",
            " block2_sepconv2_act (Activ  (None, 109, 109, 128)        0         ['block2_sepconv1_bn[0][0]']  \n",
            " ation)                                                                                           \n",
            "                                                                                                  \n",
            " block2_sepconv2 (Separable  (None, 109, 109, 128)        17536     ['block2_sepconv2_act[0][0]'] \n",
            " Conv2D)                                                                                          \n",
            "                                                                                                  \n",
            " block2_sepconv2_bn (BatchN  (None, 109, 109, 128)        512       ['block2_sepconv2[0][0]']     \n",
            " ormalization)                                                                                    \n",
            "                                                                                                  \n",
            " conv2d_4 (Conv2D)           (None, 55, 55, 128)          8192      ['block1_conv2_act[0][0]']    \n",
            "                                                                                                  \n",
            " block2_pool (MaxPooling2D)  (None, 55, 55, 128)          0         ['block2_sepconv2_bn[0][0]']  \n",
            "                                                                                                  \n",
            " batch_normalization_4 (Bat  (None, 55, 55, 128)          512       ['conv2d_4[0][0]']            \n",
            " chNormalization)                                                                                 \n",
            "                                                                                                  \n",
            " add_12 (Add)                (None, 55, 55, 128)          0         ['block2_pool[0][0]',         \n",
            "                                                                     'batch_normalization_4[0][0]'\n",
            "                                                                    ]                             \n",
            "                                                                                                  \n",
            " block3_sepconv1_act (Activ  (None, 55, 55, 128)          0         ['add_12[0][0]']              \n",
            " ation)                                                                                           \n",
            "                                                                                                  \n",
            " block3_sepconv1 (Separable  (None, 55, 55, 256)          33920     ['block3_sepconv1_act[0][0]'] \n",
            " Conv2D)                                                                                          \n",
            "                                                                                                  \n",
            " block3_sepconv1_bn (BatchN  (None, 55, 55, 256)          1024      ['block3_sepconv1[0][0]']     \n",
            " ormalization)                                                                                    \n",
            "                                                                                                  \n",
            " block3_sepconv2_act (Activ  (None, 55, 55, 256)          0         ['block3_sepconv1_bn[0][0]']  \n",
            " ation)                                                                                           \n",
            "                                                                                                  \n",
            " block3_sepconv2 (Separable  (None, 55, 55, 256)          67840     ['block3_sepconv2_act[0][0]'] \n",
            " Conv2D)                                                                                          \n",
            "                                                                                                  \n",
            " block3_sepconv2_bn (BatchN  (None, 55, 55, 256)          1024      ['block3_sepconv2[0][0]']     \n",
            " ormalization)                                                                                    \n",
            "                                                                                                  \n",
            " conv2d_5 (Conv2D)           (None, 28, 28, 256)          32768     ['add_12[0][0]']              \n",
            "                                                                                                  \n",
            " block3_pool (MaxPooling2D)  (None, 28, 28, 256)          0         ['block3_sepconv2_bn[0][0]']  \n",
            "                                                                                                  \n",
            " batch_normalization_5 (Bat  (None, 28, 28, 256)          1024      ['conv2d_5[0][0]']            \n",
            " chNormalization)                                                                                 \n",
            "                                                                                                  \n",
            " add_13 (Add)                (None, 28, 28, 256)          0         ['block3_pool[0][0]',         \n",
            "                                                                     'batch_normalization_5[0][0]'\n",
            "                                                                    ]                             \n",
            "                                                                                                  \n",
            " block4_sepconv1_act (Activ  (None, 28, 28, 256)          0         ['add_13[0][0]']              \n",
            " ation)                                                                                           \n",
            "                                                                                                  \n",
            " block4_sepconv1 (Separable  (None, 28, 28, 728)          188672    ['block4_sepconv1_act[0][0]'] \n",
            " Conv2D)                                                                                          \n",
            "                                                                                                  \n",
            " block4_sepconv1_bn (BatchN  (None, 28, 28, 728)          2912      ['block4_sepconv1[0][0]']     \n",
            " ormalization)                                                                                    \n",
            "                                                                                                  \n",
            " block4_sepconv2_act (Activ  (None, 28, 28, 728)          0         ['block4_sepconv1_bn[0][0]']  \n",
            " ation)                                                                                           \n",
            "                                                                                                  \n",
            " block4_sepconv2 (Separable  (None, 28, 28, 728)          536536    ['block4_sepconv2_act[0][0]'] \n",
            " Conv2D)                                                                                          \n",
            "                                                                                                  \n",
            " block4_sepconv2_bn (BatchN  (None, 28, 28, 728)          2912      ['block4_sepconv2[0][0]']     \n",
            " ormalization)                                                                                    \n",
            "                                                                                                  \n",
            " conv2d_6 (Conv2D)           (None, 14, 14, 728)          186368    ['add_13[0][0]']              \n",
            "                                                                                                  \n",
            " block4_pool (MaxPooling2D)  (None, 14, 14, 728)          0         ['block4_sepconv2_bn[0][0]']  \n",
            "                                                                                                  \n",
            " batch_normalization_6 (Bat  (None, 14, 14, 728)          2912      ['conv2d_6[0][0]']            \n",
            " chNormalization)                                                                                 \n",
            "                                                                                                  \n",
            " add_14 (Add)                (None, 14, 14, 728)          0         ['block4_pool[0][0]',         \n",
            "                                                                     'batch_normalization_6[0][0]'\n",
            "                                                                    ]                             \n",
            "                                                                                                  \n",
            " block5_sepconv1_act (Activ  (None, 14, 14, 728)          0         ['add_14[0][0]']              \n",
            " ation)                                                                                           \n",
            "                                                                                                  \n",
            " block5_sepconv1 (Separable  (None, 14, 14, 728)          536536    ['block5_sepconv1_act[0][0]'] \n",
            " Conv2D)                                                                                          \n",
            "                                                                                                  \n",
            " block5_sepconv1_bn (BatchN  (None, 14, 14, 728)          2912      ['block5_sepconv1[0][0]']     \n",
            " ormalization)                                                                                    \n",
            "                                                                                                  \n",
            " block5_sepconv2_act (Activ  (None, 14, 14, 728)          0         ['block5_sepconv1_bn[0][0]']  \n",
            " ation)                                                                                           \n",
            "                                                                                                  \n",
            " block5_sepconv2 (Separable  (None, 14, 14, 728)          536536    ['block5_sepconv2_act[0][0]'] \n",
            " Conv2D)                                                                                          \n",
            "                                                                                                  \n",
            " block5_sepconv2_bn (BatchN  (None, 14, 14, 728)          2912      ['block5_sepconv2[0][0]']     \n",
            " ormalization)                                                                                    \n",
            "                                                                                                  \n",
            " block5_sepconv3_act (Activ  (None, 14, 14, 728)          0         ['block5_sepconv2_bn[0][0]']  \n",
            " ation)                                                                                           \n",
            "                                                                                                  \n",
            " block5_sepconv3 (Separable  (None, 14, 14, 728)          536536    ['block5_sepconv3_act[0][0]'] \n",
            " Conv2D)                                                                                          \n",
            "                                                                                                  \n",
            " block5_sepconv3_bn (BatchN  (None, 14, 14, 728)          2912      ['block5_sepconv3[0][0]']     \n",
            " ormalization)                                                                                    \n",
            "                                                                                                  \n",
            " add_15 (Add)                (None, 14, 14, 728)          0         ['block5_sepconv3_bn[0][0]',  \n",
            "                                                                     'add_14[0][0]']              \n",
            "                                                                                                  \n",
            " block6_sepconv1_act (Activ  (None, 14, 14, 728)          0         ['add_15[0][0]']              \n",
            " ation)                                                                                           \n",
            "                                                                                                  \n",
            " block6_sepconv1 (Separable  (None, 14, 14, 728)          536536    ['block6_sepconv1_act[0][0]'] \n",
            " Conv2D)                                                                                          \n",
            "                                                                                                  \n",
            " block6_sepconv1_bn (BatchN  (None, 14, 14, 728)          2912      ['block6_sepconv1[0][0]']     \n",
            " ormalization)                                                                                    \n",
            "                                                                                                  \n",
            " block6_sepconv2_act (Activ  (None, 14, 14, 728)          0         ['block6_sepconv1_bn[0][0]']  \n",
            " ation)                                                                                           \n",
            "                                                                                                  \n",
            " block6_sepconv2 (Separable  (None, 14, 14, 728)          536536    ['block6_sepconv2_act[0][0]'] \n",
            " Conv2D)                                                                                          \n",
            "                                                                                                  \n",
            " block6_sepconv2_bn (BatchN  (None, 14, 14, 728)          2912      ['block6_sepconv2[0][0]']     \n",
            " ormalization)                                                                                    \n",
            "                                                                                                  \n",
            " block6_sepconv3_act (Activ  (None, 14, 14, 728)          0         ['block6_sepconv2_bn[0][0]']  \n",
            " ation)                                                                                           \n",
            "                                                                                                  \n",
            " block6_sepconv3 (Separable  (None, 14, 14, 728)          536536    ['block6_sepconv3_act[0][0]'] \n",
            " Conv2D)                                                                                          \n",
            "                                                                                                  \n",
            " block6_sepconv3_bn (BatchN  (None, 14, 14, 728)          2912      ['block6_sepconv3[0][0]']     \n",
            " ormalization)                                                                                    \n",
            "                                                                                                  \n",
            " add_16 (Add)                (None, 14, 14, 728)          0         ['block6_sepconv3_bn[0][0]',  \n",
            "                                                                     'add_15[0][0]']              \n",
            "                                                                                                  \n",
            " block7_sepconv1_act (Activ  (None, 14, 14, 728)          0         ['add_16[0][0]']              \n",
            " ation)                                                                                           \n",
            "                                                                                                  \n",
            " block7_sepconv1 (Separable  (None, 14, 14, 728)          536536    ['block7_sepconv1_act[0][0]'] \n",
            " Conv2D)                                                                                          \n",
            "                                                                                                  \n",
            " block7_sepconv1_bn (BatchN  (None, 14, 14, 728)          2912      ['block7_sepconv1[0][0]']     \n",
            " ormalization)                                                                                    \n",
            "                                                                                                  \n",
            " block7_sepconv2_act (Activ  (None, 14, 14, 728)          0         ['block7_sepconv1_bn[0][0]']  \n",
            " ation)                                                                                           \n",
            "                                                                                                  \n",
            " block7_sepconv2 (Separable  (None, 14, 14, 728)          536536    ['block7_sepconv2_act[0][0]'] \n",
            " Conv2D)                                                                                          \n",
            "                                                                                                  \n",
            " block7_sepconv2_bn (BatchN  (None, 14, 14, 728)          2912      ['block7_sepconv2[0][0]']     \n",
            " ormalization)                                                                                    \n",
            "                                                                                                  \n",
            " block7_sepconv3_act (Activ  (None, 14, 14, 728)          0         ['block7_sepconv2_bn[0][0]']  \n",
            " ation)                                                                                           \n",
            "                                                                                                  \n",
            " block7_sepconv3 (Separable  (None, 14, 14, 728)          536536    ['block7_sepconv3_act[0][0]'] \n",
            " Conv2D)                                                                                          \n",
            "                                                                                                  \n",
            " block7_sepconv3_bn (BatchN  (None, 14, 14, 728)          2912      ['block7_sepconv3[0][0]']     \n",
            " ormalization)                                                                                    \n",
            "                                                                                                  \n",
            " add_17 (Add)                (None, 14, 14, 728)          0         ['block7_sepconv3_bn[0][0]',  \n",
            "                                                                     'add_16[0][0]']              \n",
            "                                                                                                  \n",
            " block8_sepconv1_act (Activ  (None, 14, 14, 728)          0         ['add_17[0][0]']              \n",
            " ation)                                                                                           \n",
            "                                                                                                  \n",
            " block8_sepconv1 (Separable  (None, 14, 14, 728)          536536    ['block8_sepconv1_act[0][0]'] \n",
            " Conv2D)                                                                                          \n",
            "                                                                                                  \n",
            " block8_sepconv1_bn (BatchN  (None, 14, 14, 728)          2912      ['block8_sepconv1[0][0]']     \n",
            " ormalization)                                                                                    \n",
            "                                                                                                  \n",
            " block8_sepconv2_act (Activ  (None, 14, 14, 728)          0         ['block8_sepconv1_bn[0][0]']  \n",
            " ation)                                                                                           \n",
            "                                                                                                  \n",
            " block8_sepconv2 (Separable  (None, 14, 14, 728)          536536    ['block8_sepconv2_act[0][0]'] \n",
            " Conv2D)                                                                                          \n",
            "                                                                                                  \n",
            " block8_sepconv2_bn (BatchN  (None, 14, 14, 728)          2912      ['block8_sepconv2[0][0]']     \n",
            " ormalization)                                                                                    \n",
            "                                                                                                  \n",
            " block8_sepconv3_act (Activ  (None, 14, 14, 728)          0         ['block8_sepconv2_bn[0][0]']  \n",
            " ation)                                                                                           \n",
            "                                                                                                  \n",
            " block8_sepconv3 (Separable  (None, 14, 14, 728)          536536    ['block8_sepconv3_act[0][0]'] \n",
            " Conv2D)                                                                                          \n",
            "                                                                                                  \n",
            " block8_sepconv3_bn (BatchN  (None, 14, 14, 728)          2912      ['block8_sepconv3[0][0]']     \n",
            " ormalization)                                                                                    \n",
            "                                                                                                  \n",
            " add_18 (Add)                (None, 14, 14, 728)          0         ['block8_sepconv3_bn[0][0]',  \n",
            "                                                                     'add_17[0][0]']              \n",
            "                                                                                                  \n",
            " block9_sepconv1_act (Activ  (None, 14, 14, 728)          0         ['add_18[0][0]']              \n",
            " ation)                                                                                           \n",
            "                                                                                                  \n",
            " block9_sepconv1 (Separable  (None, 14, 14, 728)          536536    ['block9_sepconv1_act[0][0]'] \n",
            " Conv2D)                                                                                          \n",
            "                                                                                                  \n",
            " block9_sepconv1_bn (BatchN  (None, 14, 14, 728)          2912      ['block9_sepconv1[0][0]']     \n",
            " ormalization)                                                                                    \n",
            "                                                                                                  \n",
            " block9_sepconv2_act (Activ  (None, 14, 14, 728)          0         ['block9_sepconv1_bn[0][0]']  \n",
            " ation)                                                                                           \n",
            "                                                                                                  \n",
            " block9_sepconv2 (Separable  (None, 14, 14, 728)          536536    ['block9_sepconv2_act[0][0]'] \n",
            " Conv2D)                                                                                          \n",
            "                                                                                                  \n",
            " block9_sepconv2_bn (BatchN  (None, 14, 14, 728)          2912      ['block9_sepconv2[0][0]']     \n",
            " ormalization)                                                                                    \n",
            "                                                                                                  \n",
            " block9_sepconv3_act (Activ  (None, 14, 14, 728)          0         ['block9_sepconv2_bn[0][0]']  \n",
            " ation)                                                                                           \n",
            "                                                                                                  \n",
            " block9_sepconv3 (Separable  (None, 14, 14, 728)          536536    ['block9_sepconv3_act[0][0]'] \n",
            " Conv2D)                                                                                          \n",
            "                                                                                                  \n",
            " block9_sepconv3_bn (BatchN  (None, 14, 14, 728)          2912      ['block9_sepconv3[0][0]']     \n",
            " ormalization)                                                                                    \n",
            "                                                                                                  \n",
            " add_19 (Add)                (None, 14, 14, 728)          0         ['block9_sepconv3_bn[0][0]',  \n",
            "                                                                     'add_18[0][0]']              \n",
            "                                                                                                  \n",
            " block10_sepconv1_act (Acti  (None, 14, 14, 728)          0         ['add_19[0][0]']              \n",
            " vation)                                                                                          \n",
            "                                                                                                  \n",
            " block10_sepconv1 (Separabl  (None, 14, 14, 728)          536536    ['block10_sepconv1_act[0][0]']\n",
            " eConv2D)                                                                                         \n",
            "                                                                                                  \n",
            " block10_sepconv1_bn (Batch  (None, 14, 14, 728)          2912      ['block10_sepconv1[0][0]']    \n",
            " Normalization)                                                                                   \n",
            "                                                                                                  \n",
            " block10_sepconv2_act (Acti  (None, 14, 14, 728)          0         ['block10_sepconv1_bn[0][0]'] \n",
            " vation)                                                                                          \n",
            "                                                                                                  \n",
            " block10_sepconv2 (Separabl  (None, 14, 14, 728)          536536    ['block10_sepconv2_act[0][0]']\n",
            " eConv2D)                                                                                         \n",
            "                                                                                                  \n",
            " block10_sepconv2_bn (Batch  (None, 14, 14, 728)          2912      ['block10_sepconv2[0][0]']    \n",
            " Normalization)                                                                                   \n",
            "                                                                                                  \n",
            " block10_sepconv3_act (Acti  (None, 14, 14, 728)          0         ['block10_sepconv2_bn[0][0]'] \n",
            " vation)                                                                                          \n",
            "                                                                                                  \n",
            " block10_sepconv3 (Separabl  (None, 14, 14, 728)          536536    ['block10_sepconv3_act[0][0]']\n",
            " eConv2D)                                                                                         \n",
            "                                                                                                  \n",
            " block10_sepconv3_bn (Batch  (None, 14, 14, 728)          2912      ['block10_sepconv3[0][0]']    \n",
            " Normalization)                                                                                   \n",
            "                                                                                                  \n",
            " add_20 (Add)                (None, 14, 14, 728)          0         ['block10_sepconv3_bn[0][0]', \n",
            "                                                                     'add_19[0][0]']              \n",
            "                                                                                                  \n",
            " block11_sepconv1_act (Acti  (None, 14, 14, 728)          0         ['add_20[0][0]']              \n",
            " vation)                                                                                          \n",
            "                                                                                                  \n",
            " block11_sepconv1 (Separabl  (None, 14, 14, 728)          536536    ['block11_sepconv1_act[0][0]']\n",
            " eConv2D)                                                                                         \n",
            "                                                                                                  \n",
            " block11_sepconv1_bn (Batch  (None, 14, 14, 728)          2912      ['block11_sepconv1[0][0]']    \n",
            " Normalization)                                                                                   \n",
            "                                                                                                  \n",
            " block11_sepconv2_act (Acti  (None, 14, 14, 728)          0         ['block11_sepconv1_bn[0][0]'] \n",
            " vation)                                                                                          \n",
            "                                                                                                  \n",
            " block11_sepconv2 (Separabl  (None, 14, 14, 728)          536536    ['block11_sepconv2_act[0][0]']\n",
            " eConv2D)                                                                                         \n",
            "                                                                                                  \n",
            " block11_sepconv2_bn (Batch  (None, 14, 14, 728)          2912      ['block11_sepconv2[0][0]']    \n",
            " Normalization)                                                                                   \n",
            "                                                                                                  \n",
            " block11_sepconv3_act (Acti  (None, 14, 14, 728)          0         ['block11_sepconv2_bn[0][0]'] \n",
            " vation)                                                                                          \n",
            "                                                                                                  \n",
            " block11_sepconv3 (Separabl  (None, 14, 14, 728)          536536    ['block11_sepconv3_act[0][0]']\n",
            " eConv2D)                                                                                         \n",
            "                                                                                                  \n",
            " block11_sepconv3_bn (Batch  (None, 14, 14, 728)          2912      ['block11_sepconv3[0][0]']    \n",
            " Normalization)                                                                                   \n",
            "                                                                                                  \n",
            " add_21 (Add)                (None, 14, 14, 728)          0         ['block11_sepconv3_bn[0][0]', \n",
            "                                                                     'add_20[0][0]']              \n",
            "                                                                                                  \n",
            " block12_sepconv1_act (Acti  (None, 14, 14, 728)          0         ['add_21[0][0]']              \n",
            " vation)                                                                                          \n",
            "                                                                                                  \n",
            " block12_sepconv1 (Separabl  (None, 14, 14, 728)          536536    ['block12_sepconv1_act[0][0]']\n",
            " eConv2D)                                                                                         \n",
            "                                                                                                  \n",
            " block12_sepconv1_bn (Batch  (None, 14, 14, 728)          2912      ['block12_sepconv1[0][0]']    \n",
            " Normalization)                                                                                   \n",
            "                                                                                                  \n",
            " block12_sepconv2_act (Acti  (None, 14, 14, 728)          0         ['block12_sepconv1_bn[0][0]'] \n",
            " vation)                                                                                          \n",
            "                                                                                                  \n",
            " block12_sepconv2 (Separabl  (None, 14, 14, 728)          536536    ['block12_sepconv2_act[0][0]']\n",
            " eConv2D)                                                                                         \n",
            "                                                                                                  \n",
            " block12_sepconv2_bn (Batch  (None, 14, 14, 728)          2912      ['block12_sepconv2[0][0]']    \n",
            " Normalization)                                                                                   \n",
            "                                                                                                  \n",
            " block12_sepconv3_act (Acti  (None, 14, 14, 728)          0         ['block12_sepconv2_bn[0][0]'] \n",
            " vation)                                                                                          \n",
            "                                                                                                  \n",
            " block12_sepconv3 (Separabl  (None, 14, 14, 728)          536536    ['block12_sepconv3_act[0][0]']\n",
            " eConv2D)                                                                                         \n",
            "                                                                                                  \n",
            " block12_sepconv3_bn (Batch  (None, 14, 14, 728)          2912      ['block12_sepconv3[0][0]']    \n",
            " Normalization)                                                                                   \n",
            "                                                                                                  \n",
            " add_22 (Add)                (None, 14, 14, 728)          0         ['block12_sepconv3_bn[0][0]', \n",
            "                                                                     'add_21[0][0]']              \n",
            "                                                                                                  \n",
            " block13_sepconv1_act (Acti  (None, 14, 14, 728)          0         ['add_22[0][0]']              \n",
            " vation)                                                                                          \n",
            "                                                                                                  \n",
            " block13_sepconv1 (Separabl  (None, 14, 14, 728)          536536    ['block13_sepconv1_act[0][0]']\n",
            " eConv2D)                                                                                         \n",
            "                                                                                                  \n",
            " block13_sepconv1_bn (Batch  (None, 14, 14, 728)          2912      ['block13_sepconv1[0][0]']    \n",
            " Normalization)                                                                                   \n",
            "                                                                                                  \n",
            " block13_sepconv2_act (Acti  (None, 14, 14, 728)          0         ['block13_sepconv1_bn[0][0]'] \n",
            " vation)                                                                                          \n",
            "                                                                                                  \n",
            " block13_sepconv2 (Separabl  (None, 14, 14, 1024)         752024    ['block13_sepconv2_act[0][0]']\n",
            " eConv2D)                                                                                         \n",
            "                                                                                                  \n",
            " block13_sepconv2_bn (Batch  (None, 14, 14, 1024)         4096      ['block13_sepconv2[0][0]']    \n",
            " Normalization)                                                                                   \n",
            "                                                                                                  \n",
            " conv2d_7 (Conv2D)           (None, 7, 7, 1024)           745472    ['add_22[0][0]']              \n",
            "                                                                                                  \n",
            " block13_pool (MaxPooling2D  (None, 7, 7, 1024)           0         ['block13_sepconv2_bn[0][0]'] \n",
            " )                                                                                                \n",
            "                                                                                                  \n",
            " batch_normalization_7 (Bat  (None, 7, 7, 1024)           4096      ['conv2d_7[0][0]']            \n",
            " chNormalization)                                                                                 \n",
            "                                                                                                  \n",
            " add_23 (Add)                (None, 7, 7, 1024)           0         ['block13_pool[0][0]',        \n",
            "                                                                     'batch_normalization_7[0][0]'\n",
            "                                                                    ]                             \n",
            "                                                                                                  \n",
            " block14_sepconv1 (Separabl  (None, 7, 7, 1536)           1582080   ['add_23[0][0]']              \n",
            " eConv2D)                                                                                         \n",
            "                                                                                                  \n",
            " block14_sepconv1_bn (Batch  (None, 7, 7, 1536)           6144      ['block14_sepconv1[0][0]']    \n",
            " Normalization)                                                                                   \n",
            "                                                                                                  \n",
            " block14_sepconv1_act (Acti  (None, 7, 7, 1536)           0         ['block14_sepconv1_bn[0][0]'] \n",
            " vation)                                                                                          \n",
            "                                                                                                  \n",
            " block14_sepconv2 (Separabl  (None, 7, 7, 2048)           3159552   ['block14_sepconv1_act[0][0]']\n",
            " eConv2D)                                                                                         \n",
            "                                                                                                  \n",
            " block14_sepconv2_bn (Batch  (None, 7, 7, 2048)           8192      ['block14_sepconv2[0][0]']    \n",
            " Normalization)                                                                                   \n",
            "                                                                                                  \n",
            " block14_sepconv2_act (Acti  (None, 7, 7, 2048)           0         ['block14_sepconv2_bn[0][0]'] \n",
            " vation)                                                                                          \n",
            "                                                                                                  \n",
            " flatten_1 (Flatten)         (None, 100352)               0         ['block14_sepconv2_act[0][0]']\n",
            "                                                                                                  \n",
            " dense_2 (Dense)             (None, 512)                  5138073   ['flatten_1[0][0]']           \n",
            "                                                          6                                       \n",
            "                                                                                                  \n",
            " dense_3 (Dense)             (None, 2)                    1026      ['dense_2[0][0]']             \n",
            "                                                                                                  \n",
            "==================================================================================================\n",
            "Total params: 72243242 (275.59 MB)\n",
            "Trainable params: 51381762 (196.01 MB)\n",
            "Non-trainable params: 20861480 (79.58 MB)\n",
            "__________________________________________________________________________________________________\n"
          ]
        }
      ],
      "source": [
        "# Define the model\n",
        "base_model = Xception(\n",
        "    weights='imagenet',\n",
        "    include_top=False,\n",
        "    input_shape=(image_size[0], image_size[1], 3),\n",
        ")\n",
        "\n",
        "for layer in base_model.layers :\n",
        "    layer.trainable = False\n",
        "\n",
        "x = base_model.output\n",
        "x = Flatten()(x)\n",
        "x = Dense(512, activation='relu')(x)\n",
        "predictions = Dense(2, activation='softmax')(x)\n",
        "\n",
        "model = Model(inputs=base_model.input, outputs=predictions)\n",
        "\n",
        "model.compile(optimizer=Adam(learning_rate), loss='sparse_categorical_crossentropy', metrics=['accuracy'])\n",
        "\n",
        "model.summary()"
      ]
    },
    {
      "cell_type": "code",
      "execution_count": null,
      "id": "74939a50-4284-4f3e-ad9d-97bac59719ef",
      "metadata": {
        "id": "74939a50-4284-4f3e-ad9d-97bac59719ef",
        "outputId": "2762c35c-a03d-4851-ded7-7e0cf69c63ea"
      },
      "outputs": [
        {
          "name": "stdout",
          "output_type": "stream",
          "text": [
            "Epoch 1/20\n",
            "WARNING:tensorflow:From C:\\Users\\soory\\anaconda3\\Lib\\site-packages\\keras\\src\\utils\\tf_utils.py:492: The name tf.ragged.RaggedTensorValue is deprecated. Please use tf.compat.v1.ragged.RaggedTensorValue instead.\n",
            "\n",
            "WARNING:tensorflow:From C:\\Users\\soory\\anaconda3\\Lib\\site-packages\\keras\\src\\engine\\base_layer_utils.py:384: The name tf.executing_eagerly_outside_functions is deprecated. Please use tf.compat.v1.executing_eagerly_outside_functions instead.\n",
            "\n",
            "291/291 [==============================] - ETA: 0s - loss: 1.2663 - accuracy: 0.8393"
          ]
        },
        {
          "name": "stderr",
          "output_type": "stream",
          "text": [
            "C:\\Users\\soory\\anaconda3\\Lib\\site-packages\\keras\\src\\engine\\training.py:3103: UserWarning: You are saving your model as an HDF5 file via `model.save()`. This file format is considered legacy. We recommend using instead the native Keras format, e.g. `model.save('my_model.keras')`.\n",
            "  saving_api.save_model(\n"
          ]
        },
        {
          "name": "stdout",
          "output_type": "stream",
          "text": [
            "291/291 [==============================] - 369s 1s/step - loss: 1.2663 - accuracy: 0.8393 - val_loss: 0.3064 - val_accuracy: 0.9048\n",
            "Epoch 2/20\n",
            "291/291 [==============================] - 346s 1s/step - loss: 0.2350 - accuracy: 0.9154 - val_loss: 0.3633 - val_accuracy: 0.8707\n",
            "Epoch 3/20\n",
            "291/291 [==============================] - 403s 1s/step - loss: 0.1837 - accuracy: 0.9259 - val_loss: 0.1795 - val_accuracy: 0.9259\n",
            "Epoch 4/20\n",
            "291/291 [==============================] - 433s 1s/step - loss: 0.1691 - accuracy: 0.9349 - val_loss: 0.1499 - val_accuracy: 0.9399\n",
            "Epoch 5/20\n",
            "291/291 [==============================] - 435s 1s/step - loss: 0.1411 - accuracy: 0.9427 - val_loss: 0.1808 - val_accuracy: 0.9339\n",
            "Epoch 6/20\n",
            "291/291 [==============================] - 427s 1s/step - loss: 0.1577 - accuracy: 0.9390 - val_loss: 0.1226 - val_accuracy: 0.9429\n",
            "Epoch 7/20\n",
            "291/291 [==============================] - 435s 1s/step - loss: 0.1262 - accuracy: 0.9534 - val_loss: 0.2184 - val_accuracy: 0.9068\n",
            "Epoch 8/20\n",
            "291/291 [==============================] - 386s 1s/step - loss: 0.1113 - accuracy: 0.9573 - val_loss: 0.2974 - val_accuracy: 0.9038\n",
            "Epoch 9/20\n",
            "291/291 [==============================] - 358s 1s/step - loss: 0.1077 - accuracy: 0.9568 - val_loss: 0.1239 - val_accuracy: 0.9549\n",
            "Epoch 10/20\n",
            "291/291 [==============================] - 336s 1s/step - loss: 0.1207 - accuracy: 0.9512 - val_loss: 0.1193 - val_accuracy: 0.9469\n",
            "Epoch 11/20\n",
            "291/291 [==============================] - 338s 1s/step - loss: 0.1076 - accuracy: 0.9558 - val_loss: 0.1410 - val_accuracy: 0.9409\n",
            "Epoch 12/20\n",
            "291/291 [==============================] - 371s 1s/step - loss: 0.0970 - accuracy: 0.9626 - val_loss: 0.2443 - val_accuracy: 0.9248\n",
            "Epoch 13/20\n",
            "291/291 [==============================] - 334s 1s/step - loss: 0.1000 - accuracy: 0.9611 - val_loss: 0.1010 - val_accuracy: 0.9539\n",
            "Epoch 14/20\n",
            "291/291 [==============================] - 333s 1s/step - loss: 0.0979 - accuracy: 0.9611 - val_loss: 0.1229 - val_accuracy: 0.9499\n",
            "Epoch 15/20\n",
            "291/291 [==============================] - 330s 1s/step - loss: 0.0999 - accuracy: 0.9622 - val_loss: 0.1093 - val_accuracy: 0.9559\n",
            "Epoch 16/20\n",
            "291/291 [==============================] - 330s 1s/step - loss: 0.0814 - accuracy: 0.9680 - val_loss: 0.1028 - val_accuracy: 0.9589\n",
            "Epoch 17/20\n",
            "291/291 [==============================] - 330s 1s/step - loss: 0.0907 - accuracy: 0.9626 - val_loss: 0.0905 - val_accuracy: 0.9629\n",
            "Epoch 18/20\n",
            "291/291 [==============================] - 345s 1s/step - loss: 0.0852 - accuracy: 0.9652 - val_loss: 0.1629 - val_accuracy: 0.9439\n",
            "Epoch 19/20\n",
            "291/291 [==============================] - 375s 1s/step - loss: 0.0823 - accuracy: 0.9661 - val_loss: 0.1161 - val_accuracy: 0.9539\n",
            "Epoch 20/20\n",
            "291/291 [==============================] - 377s 1s/step - loss: 0.0743 - accuracy: 0.9719 - val_loss: 0.1171 - val_accuracy: 0.9559\n",
            "Training Time : 7452.652967214584\n"
          ]
        }
      ],
      "source": [
        "model_checkpoint = ModelCheckpoint(os.path.join(folder_path, f\"best_model.h5\"), monitor='val_loss', save_best_only=True)\n",
        "csv_logger = CSVLogger(os.path.join(folder_path, f\"log.csv\"), separator=',', append=False)\n",
        "early_stopping = EarlyStopping(monitor='val_loss', patience=10)\n",
        "\n",
        "# Hitung waktu training\n",
        "start_time = time.time()\n",
        "\n",
        "# Training\n",
        "history = model.fit(\n",
        "    X_train,\n",
        "    y_train,\n",
        "    epochs=20,\n",
        "    validation_data=(X_valid, y_valid),\n",
        "    callbacks=[model_checkpoint, csv_logger, early_stopping],\n",
        "    batch_size=batch_size,\n",
        ")\n",
        "\n",
        "# Hitung waktu training\n",
        "end_time = time.time()\n",
        "\n",
        "print(f\"Training Time : {end_time - start_time}\")"
      ]
    },
    {
      "cell_type": "code",
      "execution_count": null,
      "id": "35a8846d-bf96-41cf-ac41-4057746ae290",
      "metadata": {
        "id": "35a8846d-bf96-41cf-ac41-4057746ae290",
        "outputId": "fc9527f8-c955-498c-95c6-5c24ac5f3a19"
      },
      "outputs": [
        {
          "name": "stdout",
          "output_type": "stream",
          "text": [
            "32/32 [==============================] - 48s 1s/step - loss: 0.0905 - accuracy: 0.9699\n",
            "Test Accuracy: 0.9699398875236511\n"
          ]
        }
      ],
      "source": [
        "# Evaluate the model on the test data\n",
        "test_loss, test_accuracy = model.evaluate(X_test, y_test)\n",
        "print(\"Test Accuracy:\", test_accuracy)"
      ]
    },
    {
      "cell_type": "code",
      "execution_count": null,
      "id": "8059b041-9974-452c-ab94-4ded867546a0",
      "metadata": {
        "id": "8059b041-9974-452c-ab94-4ded867546a0",
        "outputId": "dc99a668-ac1b-4859-8ad9-56db1e66c7e3"
      },
      "outputs": [
        {
          "data": {
            "image/png": "[encoded data removed]",
            "text/plain": [
              "<Figure size 640x480 with 1 Axes>"
            ]
          },
          "metadata": {},
          "output_type": "display_data"
        }
      ],
      "source": [
        "loss = history.history['loss']\n",
        "val_loss = history.history['val_loss']\n",
        "epochs = range(1, len(loss)+1)\n",
        "plt.plot(epochs, loss, 'b', label='Training loss')\n",
        "plt.plot(epochs, val_loss, 'r', label='Validation loss')\n",
        "plt.title('Training and Validation Loss')\n",
        "plt.xlabel('Epochs')\n",
        "plt.ylabel('Loss')\n",
        "plt.ylim(0.001, max(max(loss), max(val_loss))+0.2)\n",
        "plt.legend()\n",
        "plt.savefig(os.path.join(folder_path, 'loss.png'))\n",
        "plt.show()"
      ]
    },
    {
      "cell_type": "code",
      "execution_count": null,
      "id": "b6490a40-643b-402e-ab44-ad96e575268f",
      "metadata": {
        "id": "b6490a40-643b-402e-ab44-ad96e575268f",
        "outputId": "3ec95f24-2408-4aca-cda2-8e88f026b578"
      },
      "outputs": [
        {
          "data": {
            "image/png": "[encoded data removed]",
            "text/plain": [
              "<Figure size 640x480 with 1 Axes>"
            ]
          },
          "metadata": {},
          "output_type": "display_data"
        }
      ],
      "source": [
        "acc = history.history['accuracy']\n",
        "\n",
        "val_acc = history.history['val_accuracy']\n",
        "\n",
        "plt.plot(epochs, acc, 'b', label='Training acc')\n",
        "plt.plot(epochs, val_acc, 'r', label='Validation acc')\n",
        "plt.title('Training and Validation Accuracy')\n",
        "plt.xlabel('Epochs')\n",
        "plt.ylabel('Accuracy')\n",
        "plt.ylim(0.75, max(max(acc), max(val_acc))+0.1)  # Adjust the upper limit dynamically if needed\n",
        "\n",
        "plt.legend()\n",
        "plt.savefig(os.path.join(folder_path, 'accuracy.png'))\n",
        "plt.show()"
      ]
    },
    {
      "cell_type": "code",
      "execution_count": null,
      "id": "a40ba4ae-e37d-45c7-a817-59f17ce81792",
      "metadata": {
        "id": "a40ba4ae-e37d-45c7-a817-59f17ce81792",
        "outputId": "be6ae612-40c2-4c7d-a14c-9fbfc900868a"
      },
      "outputs": [
        {
          "name": "stdout",
          "output_type": "stream",
          "text": [
            "32/32 [==============================] - 56s 2s/step\n",
            "Classification Report:\n",
            "               precision    recall  f1-score   support\n",
            "\n",
            "      drowsy     0.9851    0.9601    0.9724       551\n",
            "   notdrowsy     0.9523    0.9821    0.9670       447\n",
            "\n",
            "    accuracy                         0.9699       998\n",
            "   macro avg     0.9687    0.9711    0.9697       998\n",
            "weighted avg     0.9704    0.9699    0.9700       998\n",
            "\n"
          ]
        }
      ],
      "source": [
        "y_pred = model.predict(X_test)\n",
        "\n",
        "y_pred = np.argmax(y_pred, axis=1)\n",
        "\n",
        "classification_rep = classification_report(y_test, y_pred, target_names=class_names, digits=4)\n",
        "print(\"Classification Report:\\n\", classification_rep)\n",
        "\n",
        "with open(os.path.join(folder_path, 'classification_report.txt'), 'w') as file:\n",
        "    file.write(classification_rep)"
      ]
    },
    {
      "cell_type": "code",
      "execution_count": null,
      "id": "eb1b286b-69de-4fb6-85c2-ae041b1aabac",
      "metadata": {
        "id": "eb1b286b-69de-4fb6-85c2-ae041b1aabac",
        "outputId": "64b85fff-f225-408e-f5b4-c8f44d11f524"
      },
      "outputs": [
        {
          "data": {
            "image/png": "[encoded data removed]",
            "text/plain": [
              "<Figure size 800x600 with 2 Axes>"
            ]
          },
          "metadata": {},
          "output_type": "display_data"
        }
      ],
      "source": [
        "from sklearn.metrics import confusion_matrix\n",
        "import seaborn as sns\n",
        "conf_matrix = confusion_matrix(y_test, y_pred)\n",
        "\n",
        "plt.figure(figsize=(8, 6))\n",
        "sns.heatmap(conf_matrix, annot=True, fmt='d', cmap='Blues', xticklabels=['Drowsy', 'Not Drowsy'], yticklabels=['Drowsy', 'Not Drowsy'])\n",
        "\n",
        "# Loop through the elements of the confusion matrix to add annotations for both top and bottom\n",
        "for i in range(len(conf_matrix)):\n",
        "    for j in range(len(conf_matrix[i])):\n",
        "        plt.text(j + 0.5, i + 0.5, conf_matrix[i, j], ha='center', va='center', color='red')\n",
        "\n",
        "plt.xlabel('Predicted Label')\n",
        "plt.ylabel('True Label')\n",
        "plt.title('Confusion Matrix')\n",
        "plt.show()"
      ]
    },
    {
      "cell_type": "code",
      "execution_count": null,
      "id": "165713ab-f053-42ac-9fd6-4a64549141db",
      "metadata": {
        "id": "165713ab-f053-42ac-9fd6-4a64549141db",
        "outputId": "7fda3d52-19cb-4bf1-88e3-7de8fca6a0b3"
      },
      "outputs": [
        {
          "name": "stdout",
          "output_type": "stream",
          "text": [
            "Average Validation ACcuracy 0.9365731447935104\n"
          ]
        }
      ],
      "source": [
        "import numpy as np\n",
        "val_acc_avg = np.mean(val_acc)\n",
        "print(\"Average Validation ACcuracy\",val_acc_avg)"
      ]
    },
    {
      "cell_type": "code",
      "execution_count": null,
      "id": "d493c061-3c20-4eb3-8909-6cb63e4a2868",
      "metadata": {
        "id": "d493c061-3c20-4eb3-8909-6cb63e4a2868",
        "outputId": "11888ec7-9fb2-4489-93e3-d5cc15ede179"
      },
      "outputs": [
        {
          "name": "stdout",
          "output_type": "stream",
          "text": [
            "Average training ACcuracy 0.9365731447935104\n"
          ]
        }
      ],
      "source": [
        "acc_avg = np.mean(acc)\n",
        "print(\"Average training ACcuracy\",val_acc_avg)"
      ]
    },
    {
      "cell_type": "code",
      "execution_count": null,
      "id": "4466efd3-a77f-4a05-abcf-62153987c15a",
      "metadata": {
        "id": "4466efd3-a77f-4a05-abcf-62153987c15a"
      },
      "outputs": [],
      "source": []
    }
  ],
  "metadata": {
    "kernelspec": {
      "display_name": "Python 3 (ipykernel)",
      "language": "python",
      "name": "python3"
    },
    "language_info": {
      "codemirror_mode": {
        "name": "ipython",
        "version": 3
      },
      "file_extension": ".py",
      "mimetype": "text/x-python",
      "name": "python",
      "nbconvert_exporter": "python",
      "pygments_lexer": "ipython3",
      "version": "3.11.7"
    },
    "colab": {
      "provenance": []
    }
  },
  "nbformat": 4,
  "nbformat_minor": 5
}